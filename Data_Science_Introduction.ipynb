{
  "nbformat": 4,
  "nbformat_minor": 0,
  "metadata": {
    "colab": {
      "provenance": [],
      "authorship_tag": "ABX9TyO1b86uwCc67oxDoWJnyENc",
      "include_colab_link": true
    },
    "kernelspec": {
      "name": "python3",
      "display_name": "Python 3"
    },
    "language_info": {
      "name": "python"
    }
  },
  "cells": [
    {
      "cell_type": "markdown",
      "metadata": {
        "id": "view-in-github",
        "colab_type": "text"
      },
      "source": [
        "<a href=\"https://colab.research.google.com/github/ViniciusGGR/Data-Science-Introduction/blob/main/Data_Science_Introduction.ipynb\" target=\"_parent\"><img src=\"https://colab.research.google.com/assets/colab-badge.svg\" alt=\"Open In Colab\"/></a>"
      ]
    },
    {
      "cell_type": "markdown",
      "source": [
        "# **Data Science**"
      ],
      "metadata": {
        "id": "CGrZ9DhocdNN"
      }
    },
    {
      "cell_type": "markdown",
      "source": [
        "**Data Science** - É uma *combinação de múltiplas disciplinas* que usa **estatística, análise de dados e aprendizado de máquina** para ***analisar dados e extrair conhecimento e insights deles***.\n",
        "\n",
        "Um **Cientista de Dados** ajuda as empresas com *decisões baseadas em dados*, para melhorar seus negócios.\n",
        "\n",
        "* Um **Cientista de Dados** requer e*xperiência em diversas áreas*:\n",
        "  * Aprendizado de máquina.\n",
        "  * Estatistica.\n",
        "  * Programação (**Python ou R**).\n",
        "  * Matemática.\n",
        "  * Bancos de dados."
      ],
      "metadata": {
        "id": "D92wJgfCF9CG"
      }
    },
    {
      "cell_type": "markdown",
      "source": [
        "Um **Cientista de Dados** deve ***encontrar padrões nos dados***. *Antes de encontrar os padrões*, ele **deve organizar os dados em um formato padrão**.\n",
        "\n",
        "1. **Faça as perguntas certas** - Para *entender o problema do negócio*.\n",
        "2. **Explore e colete dados** - De Banco de dados (BD), logs da web, feedback de clientes, etc.\n",
        "3. **Extraia os dados** - *Transformar os dados em um formato padronizado*.\n",
        "4. **Limpe os dados** - *Remover valores errados dos dados*.\n",
        "5. **Encontre e substitua valores ausentes** - *Verifique se há valores ausentes e substitua-os por um valor adequado* (por exemplo, um valor médio).\n",
        "6. **Normalizar dados** - ***Dimensione os valores em uma faixa prática*** (por exemplo, *140 cm é menor que 1,8 m*. No entanto, o **número 140 é maior que 1,8**. - portanto, o dimensionamento é importante).\n",
        "7. **Análise dados, encontre padrões e faça previsões futuras**.\n",
        "8. **Representar o resultado** - Apresentar o resultado com insights úteis de uma forma que a \"empresa/cliente\" possa entender.\n",
        "\n"
      ],
      "metadata": {
        "id": "QnSh0cTLLQht"
      }
    },
    {
      "cell_type": "markdown",
      "source": [
        "**Data Science** trata de *encontrar padrões em dados, por meio de análises, e fazer previsões futuras*.\n",
        "\n",
        "* Ao usar **Data Science**, as empresas são capazes de fazer:\n",
        "  * Melhores decisões (**A ou B**?)\n",
        "  * Análise preditiva (**O que acontecerá a seguir**?)\n",
        "  * Descoberta de padrões (**Encontrar padrões e/ou informações ocultas nos dados**.)"
      ],
      "metadata": {
        "id": "s-7eCd16Hpl3"
      }
    },
    {
      "cell_type": "markdown",
      "source": [
        "* Exemplos de onde **Data Science** é necessária:\n",
        "  * Para *planejamento de rotas*: Para **descobrir as melhores rotas para enviar**.\n",
        "  * Para *prever atrasos em voos, navios, trem*, etc. (Através de **análise preditiva**).\n",
        "  * Para *criar ofertas promocionais*.\n",
        "  * Para **encontrar o momento adequado para entregar mercadorias**.\n",
        "  * Para *prever a receita do próximo ano para uma empresa*.\n",
        "  * Para **analisar os benefícios do treinamento para a saúde**.\n",
        "  * Para \"**prever quem vencerá as eleições**\".\n",
        "\n",
        "* **Data Science** pode ser aplicada em quase todos os setores de uma empresa onde os dados estão disponíveis:\n",
        "  * Bens de consumo.\n",
        "  * Mercado de ações.\n",
        "  * Indústria.\n",
        "  * Política.\n",
        "  * Empresas de logística.\n",
        "  * Comércio eletrônico."
      ],
      "metadata": {
        "id": "NQEfhk-8I-uA"
      }
    },
    {
      "cell_type": "code",
      "source": [],
      "metadata": {
        "id": "wddK7J_ZGQVl"
      },
      "execution_count": null,
      "outputs": []
    }
  ]
}