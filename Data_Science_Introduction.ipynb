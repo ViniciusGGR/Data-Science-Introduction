{
  "nbformat": 4,
  "nbformat_minor": 0,
  "metadata": {
    "colab": {
      "provenance": [],
      "authorship_tag": "ABX9TyNi7Zn4IleieGufexvL8AQP",
      "include_colab_link": true
    },
    "kernelspec": {
      "name": "python3",
      "display_name": "Python 3"
    },
    "language_info": {
      "name": "python"
    }
  },
  "cells": [
    {
      "cell_type": "markdown",
      "metadata": {
        "id": "view-in-github",
        "colab_type": "text"
      },
      "source": [
        "<a href=\"https://colab.research.google.com/github/ViniciusGGR/Data-Science-Introduction/blob/main/Data_Science_Introduction.ipynb\" target=\"_parent\"><img src=\"https://colab.research.google.com/assets/colab-badge.svg\" alt=\"Open In Colab\"/></a>"
      ]
    },
    {
      "cell_type": "markdown",
      "source": [
        "# **Data Science**"
      ],
      "metadata": {
        "id": "CGrZ9DhocdNN"
      }
    },
    {
      "cell_type": "markdown",
      "source": [
        "**Data Science** - É uma *combinação de múltiplas disciplinas* que usa **estatística, análise de dados e aprendizado de máquina** para **analisar dados e extrair conhecimento e insights deles**.\n",
        "\n",
        "Um **Cientista de Dados** ajuda as empresas com *decisões baseadas em dados*, para melhorar seus negócios.\n",
        "\n",
        "* Um **Cientista de Dados** requer *experiência em diversas áreas*:\n",
        "  * Aprendizado de máquina.\n",
        "  * Estatistica.\n",
        "  * Programação (**Python ou R**).\n",
        "  * Matemática.\n",
        "  * Bancos de dados."
      ],
      "metadata": {
        "id": "D92wJgfCF9CG"
      }
    },
    {
      "cell_type": "markdown",
      "source": [
        "Um **Cientista de Dados** deve **encontrar padrões nos dados**. *Antes de encontrar os padrões*, ele **deve organizar os dados em um formato padrão**.\n",
        "\n",
        "1. **Faça as perguntas certas** - Para *entender o problema do negócio*.\n",
        "2. **Explore e colete dados** - De Banco de dados (BD), logs da web, feedback de clientes, etc.\n",
        "3. **Extraia os dados** - *Transformar os dados em um formato padronizado*.\n",
        "4. **Limpe os dados** - *Remover valores errados dos dados*.\n",
        "5. **Encontre e substitua valores ausentes** - *Verifique se há valores ausentes e substitua-os por um valor adequado* (por exemplo, um valor médio).\n",
        "6. **Normalizar dados** - **Dimensione os valores em uma faixa prática** (por exemplo, *140 cm é menor que 1,8 m*. No entanto, o **número 140 é maior que 1,8**. - portanto, o dimensionamento é importante).\n",
        "7. **Análise dados, encontre padrões e faça previsões futuras**.\n",
        "8. **Representar o resultado** - Apresentar o resultado com insights úteis de uma forma que a \"empresa/cliente\" possa entender.\n",
        "\n"
      ],
      "metadata": {
        "id": "QnSh0cTLLQht"
      }
    },
    {
      "cell_type": "markdown",
      "source": [
        "**Data Science** trata de *encontrar padrões em dados, por meio de análises, e fazer previsões futuras*.\n",
        "\n",
        "* Ao usar **Data Science**, as empresas são capazes de fazer:\n",
        "  * Melhores decisões (**A ou B**?)\n",
        "  * Análise preditiva (**O que acontecerá a seguir**?)\n",
        "  * Descoberta de padrões (**Encontrar padrões e/ou informações ocultas nos dados**.)"
      ],
      "metadata": {
        "id": "s-7eCd16Hpl3"
      }
    },
    {
      "cell_type": "markdown",
      "source": [
        "* Exemplos de onde **Data Science** é necessária:\n",
        "  * Para *planejamento de rotas*: Para **descobrir as melhores rotas para enviar**.\n",
        "  * Para *prever atrasos em voos, navios, trem*, etc. (Através de **análise preditiva**).\n",
        "  * Para *criar ofertas promocionais*.\n",
        "  * Para **encontrar o momento adequado para entregar mercadorias**.\n",
        "  * Para *prever a receita do próximo ano para uma empresa*.\n",
        "  * Para **analisar os benefícios do treinamento para a saúde**.\n",
        "  * Para \"**prever quem vencerá as eleições**\".\n",
        "\n",
        "* **Data Science** pode ser aplicada em quase todos os setores de uma empresa onde os dados estão disponíveis:\n",
        "  * Bens de consumo.\n",
        "  * Mercado de ações.\n",
        "  * Indústria.\n",
        "  * Política.\n",
        "  * Empresas de logística.\n",
        "  * Comércio eletrônico."
      ],
      "metadata": {
        "id": "NQEfhk-8I-uA"
      }
    },
    {
      "cell_type": "markdown",
      "source": [
        "## O que são Dados?\n",
        "\n",
        "**Dados** são uma **coleção de informações**.\n",
        "\n",
        "* Um dos \"objetivos\" da **Ciência de Dados** é *estruturar os dados*, tornando-os **interpretáveis e fáceis de trabalhar**.\n",
        "\n",
        "Os **Dados** podem ser *categorizados* em dois grupos:\n",
        "* **Dados Estruturados**.\n",
        "* **Dados Não Estruturados**."
      ],
      "metadata": {
        "id": "KejO1Nlbo744"
      }
    },
    {
      "cell_type": "markdown",
      "source": [
        "## Dados - Não Estruturados\n",
        "\n",
        "**Dados Não Estruturados** *não são organizados*. Deve-se **organizar os dados para fins de análise**.\n",
        "\n",
        "### Como \"Estruturar Dados\"?\n",
        "\n",
        "É possível usar um **array** ou uma **tabela de banco de dados** para *estruturar ou apresentar dados*.\n",
        "\n",
        "```\n",
        "[80, 85, 90, 95, 100, 105, 110, 115, 120, 125]\n",
        "```\n",
        "\n",
        "---\n",
        "\n",
        "## Dados - Estruturados\n",
        "\n",
        "**Dados Estruturados** *são organizados* e **mais fáceis de trabalhar**.\n",
        "\n",
        "---\n",
        "\n",
        "> É comum trabalhar com *conjuntos de dados* muito grandes em **Data Science**."
      ],
      "metadata": {
        "id": "l2o_sfdWpyIk"
      }
    },
    {
      "cell_type": "code",
      "source": [
        "# Criando um 'array' em Python\n",
        "\n",
        "numbers = [80, 85, 90, 95, 100, 105, 110, 115, 120, 125]\n",
        "print(numbers)"
      ],
      "metadata": {
        "colab": {
          "base_uri": "https://localhost:8080/"
        },
        "id": "ldxI-Nv3q2AY",
        "outputId": "5a5f031f-c57e-4eb8-f12a-6a12b4f86b01"
      },
      "execution_count": null,
      "outputs": [
        {
          "output_type": "stream",
          "name": "stdout",
          "text": [
            "[80, 85, 90, 95, 100, 105, 110, 115, 120, 125]\n"
          ]
        }
      ]
    },
    {
      "cell_type": "markdown",
      "source": [
        "## Tabela - Banco de Dados\n",
        "\n",
        "Uma _tabela de **Banco de Dados**_ é uma \"*tabela*\" com **dados estruturados**.\n",
        "\n",
        "* Uma _tabela de **Banco de Dados**_ consiste em **linhas** e **colunas**:\n",
        "  * Uma **linha** é uma representação *horizontal de dados*.\n",
        "  * Uma **coluna** é uma representação *vertical de dados*.\n",
        "\n",
        "---\n",
        "\n",
        "## Variáveis\n",
        "\n",
        "Uma **variável** é definida como *algo que* pode ser **medido** ou **contado**.\n",
        "\n",
        "* Os exemplos podem ser **caracteres**, **números** ou **hora**.\n",
        "\n",
        "> Cada *coluna* em uma **tabela** representa uma **variável**. A *primeira linha de uma coluna* é o \"**rótulo**\", o que significa que é o **nome da variável**."
      ],
      "metadata": {
        "id": "TqdJpWI9OPjQ"
      }
    },
    {
      "cell_type": "markdown",
      "source": [
        "## Data Science & Python\n",
        "\n",
        "### Python\n",
        "\n",
        "* **Python** é uma *linguagem de programação* amplamente utilizada por **Cientistas de Dados**.\n",
        "\n",
        "* **Python** possui **bibliotecas** e *funções matemáticas integradas*, tornando mais fácil **calcular problemas matemáticos** e r**ealizar \"análises de dados\"**.\n",
        "\n",
        "### Python Libraries\n",
        "\n",
        "**Python** possui **bibliotecas** com *grandes coleções de funções matemáticas e ferramentas analíticas*.\n",
        "\n",
        "Exemplos:\n",
        "* **Pandas** - É usada para **operações estruturadas de dados**, como *importação de arquivos CSV*, *criação de dataframes* e **preparação de dados**.\n",
        "* **Numpy** - Possui um poderoso **objeto de matriz N-dimensional**, **álgebra linear**, **transformada de Fourier**, etc.\n",
        "* **Matplotlib** - É usada para **visualização de dados**.\n",
        "* **SciPy** - Possui **módulos** de *álgebra linear*."
      ],
      "metadata": {
        "id": "VP-IHukARdBk"
      }
    }
  ]
}