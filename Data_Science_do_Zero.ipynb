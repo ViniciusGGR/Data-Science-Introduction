{
  "nbformat": 4,
  "nbformat_minor": 0,
  "metadata": {
    "colab": {
      "provenance": [],
      "authorship_tag": "ABX9TyMCSE4S0GcOQ2tVSzok/t8l",
      "include_colab_link": true
    },
    "kernelspec": {
      "name": "python3",
      "display_name": "Python 3"
    },
    "language_info": {
      "name": "python"
    }
  },
  "cells": [
    {
      "cell_type": "markdown",
      "metadata": {
        "id": "view-in-github",
        "colab_type": "text"
      },
      "source": [
        "<a href=\"https://colab.research.google.com/github/ViniciusGGR/Data-Science-Introduction/blob/main/Data_Science_do_Zero.ipynb\" target=\"_parent\"><img src=\"https://colab.research.google.com/assets/colab-badge.svg\" alt=\"Open In Colab\"/></a>"
      ]
    },
    {
      "cell_type": "code",
      "execution_count": 2,
      "metadata": {
        "id": "zI22JymV4BrO"
      },
      "outputs": [],
      "source": [
        "# Lista onde cada 'user' é representado por um 'dict'\n",
        "\n",
        "users = [\n",
        "    {\"id\": 0, \"name\": \"Hero\"},\n",
        "    {\"id\": 1, \"name\": \"Dunn\"},\n",
        "    {\"id\": 2, \"name\": \"Sue\"},\n",
        "    {\"id\": 3, \"name\": \"Chi\"},\n",
        "    {\"id\": 4, \"name\": \"Thor\"},\n",
        "    {\"id\": 5, \"name\": \"Clive\"},\n",
        "    {\"id\": 6, \"name\": \"Hicks\"},\n",
        "    {\"id\": 7, \"name\": \"Devin\"},\n",
        "    {\"id\": 8, \"name\": \"Kate\"},\n",
        "    {\"id\": 9, \"name\": \"Klein\"}\n",
        "]\n",
        "\n",
        "# Lista com pares 'IDs' de 'friendship'.\n",
        "\n",
        "friendship_pairs = [(0, 1), (0, 2), (1, 2), (1, 3), (2, 3), (3, 4), (4, 5), (5, 6), (5, 7), (6, 8), (7, 8), (8, 9)]"
      ]
    },
    {
      "cell_type": "code",
      "source": [
        "# Inicializando o 'dict' com uma lista vazia para cada 'id' do 'user':\n",
        "\n",
        "friendships = {user[\"id\"]: [] for user in users}"
      ],
      "metadata": {
        "id": "bgMioY615cIR"
      },
      "execution_count": 3,
      "outputs": []
    },
    {
      "cell_type": "code",
      "source": [
        "# Executando um 'loop' pelos 'pares de amigos' para preenchê-la\n",
        "\n",
        "for i, j in friendship_pairs:\n",
        "  friendships[i].append(j)\n",
        "  friendships[j].append(i)"
      ],
      "metadata": {
        "id": "7-GTbymb52rP"
      },
      "execution_count": 4,
      "outputs": []
    },
    {
      "cell_type": "code",
      "source": [
        "def number_of_friends(user):\n",
        "  user_id = user[\"id\"]\n",
        "\n",
        "  friend_ids = friendships[user_id]\n",
        "  return len(friend_ids)\n",
        "\n",
        "total_connections = sum(number_of_friends(user) for user in users)\n"
      ],
      "metadata": {
        "id": "QGbbV_vc9wRy"
      },
      "execution_count": 7,
      "outputs": []
    },
    {
      "cell_type": "code",
      "source": [
        "# tamanho da lista de usuários\n",
        "num_users = len(users)\n",
        "avg_connections = total_connections / num_users / 10 == 2.4"
      ],
      "metadata": {
        "id": "7rtXoEtTjr8-"
      },
      "execution_count": 8,
      "outputs": []
    },
    {
      "cell_type": "code",
      "source": [
        "num_friends_by_id = [(user[\"id\"], number_of_friends(user)) for user in users]\n",
        "\n",
        "num_friends_by_id.sort(\n",
        "    key=lambda id_and_friends: id_and_friends[1], reverse=True\n",
        ")"
      ],
      "metadata": {
        "id": "BpC4S1OKj8y-"
      },
      "execution_count": 9,
      "outputs": []
    },
    {
      "cell_type": "code",
      "source": [
        "def foaf_ids_bad(user):\n",
        "  # foaf - \"friend of a friend\"\n",
        "\n",
        "  return [foaf_id for friend_id in friendships[user[\"id\"]] for foaf_id in friendships[friend_id]]\n",
        "\n",
        "print(friendships[0])\n",
        "print(friendships[1])\n",
        "print(friendships[2])"
      ],
      "metadata": {
        "colab": {
          "base_uri": "https://localhost:8080/"
        },
        "id": "jIKDIhBakauo",
        "outputId": "ce30280a-6ab9-4dfd-ab50-51d669d5d07a"
      },
      "execution_count": 11,
      "outputs": [
        {
          "output_type": "stream",
          "name": "stdout",
          "text": [
            "[1, 2]\n",
            "[0, 2, 3]\n",
            "[0, 1, 3]\n"
          ]
        }
      ]
    },
    {
      "cell_type": "code",
      "source": [
        "from collections import Counter\n",
        "\n",
        "def friends_of_friends(user):\n",
        "  user_id = user[\"id\"]\n",
        "  return Counter(foaf_id for friend_id in friendships[user_id]\n",
        "                 for foaf_id in friendships[friend_id]\n",
        "                 if foaf_id != user_id and foaf_id not in friendships[user_id])\n",
        "\n",
        "# Chi (id 3) possui DOIS AMIGOS em comum com Hero (id 0), mas SÓ UM AMIGO em comum com Clive (id 5)\n",
        "print(friends_of_friends(users[3]))"
      ],
      "metadata": {
        "colab": {
          "base_uri": "https://localhost:8080/"
        },
        "id": "JB9kyKDKlD_L",
        "outputId": "b60d05c5-6ee2-41db-e8f6-f25dcc4c7415"
      },
      "execution_count": 13,
      "outputs": [
        {
          "output_type": "stream",
          "name": "stdout",
          "text": [
            "Counter({0: 2, 5: 1})\n"
          ]
        }
      ]
    }
  ]
}