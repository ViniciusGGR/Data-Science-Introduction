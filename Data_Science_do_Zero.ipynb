{
  "nbformat": 4,
  "nbformat_minor": 0,
  "metadata": {
    "colab": {
      "provenance": [],
      "authorship_tag": "ABX9TyOkBuZBiLX/hHT+rXA8QHq9",
      "include_colab_link": true
    },
    "kernelspec": {
      "name": "python3",
      "display_name": "Python 3"
    },
    "language_info": {
      "name": "python"
    }
  },
  "cells": [
    {
      "cell_type": "markdown",
      "metadata": {
        "id": "view-in-github",
        "colab_type": "text"
      },
      "source": [
        "<a href=\"https://colab.research.google.com/github/ViniciusGGR/Data-Science-Introduction/blob/main/Data_Science_do_Zero.ipynb\" target=\"_parent\"><img src=\"https://colab.research.google.com/assets/colab-badge.svg\" alt=\"Open In Colab\"/></a>"
      ]
    },
    {
      "cell_type": "code",
      "execution_count": null,
      "metadata": {
        "id": "zI22JymV4BrO"
      },
      "outputs": [],
      "source": [
        "# Lista onde cada 'user' é representado por um 'dict'\n",
        "\n",
        "users = [\n",
        "    {\"id\": 0, \"name\": \"Hero\"},\n",
        "    {\"id\": 1, \"name\": \"Dunn\"},\n",
        "    {\"id\": 2, \"name\": \"Sue\"},\n",
        "    {\"id\": 3, \"name\": \"Chi\"},\n",
        "    {\"id\": 4, \"name\": \"Thor\"},\n",
        "    {\"id\": 5, \"name\": \"Clive\"},\n",
        "    {\"id\": 6, \"name\": \"Hicks\"},\n",
        "    {\"id\": 7, \"name\": \"Devin\"},\n",
        "    {\"id\": 8, \"name\": \"Kate\"},\n",
        "    {\"id\": 9, \"name\": \"Klein\"}\n",
        "]\n",
        "\n",
        "# Lista com pares 'IDs' de 'friendship'.\n",
        "\n",
        "friendship_pairs = [(0, 1), (0, 2), (1, 2), (1, 3), (2, 3), (3, 4), (4, 5), (5, 6), (5, 7), (6, 8), (7, 8), (8, 9)]"
      ]
    },
    {
      "cell_type": "code",
      "source": [
        "# Inicializando o 'dict' com uma lista vazia para cada 'id' do 'user':\n",
        "\n",
        "friendships = {user[\"id\"]: [] for user in users}"
      ],
      "metadata": {
        "id": "bgMioY615cIR"
      },
      "execution_count": null,
      "outputs": []
    },
    {
      "cell_type": "code",
      "source": [
        "# Executando um 'loop' pelos 'pares de amigos' para preenchê-la\n",
        "\n",
        "for i, j in friendship_pairs:\n",
        "  friendships[i].append(j)\n",
        "  friendships[j].append(i)"
      ],
      "metadata": {
        "id": "7-GTbymb52rP"
      },
      "execution_count": null,
      "outputs": []
    },
    {
      "cell_type": "code",
      "source": [],
      "metadata": {
        "id": "QGbbV_vc9wRy"
      },
      "execution_count": null,
      "outputs": []
    }
  ]
}