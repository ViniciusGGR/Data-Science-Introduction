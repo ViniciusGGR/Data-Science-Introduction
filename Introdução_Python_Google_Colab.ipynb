{
  "nbformat": 4,
  "nbformat_minor": 0,
  "metadata": {
    "colab": {
      "provenance": [],
      "authorship_tag": "ABX9TyMBSLdDmGCQV91KDQNDY2IA",
      "include_colab_link": true
    },
    "kernelspec": {
      "name": "python3",
      "display_name": "Python 3"
    },
    "language_info": {
      "name": "python"
    }
  },
  "cells": [
    {
      "cell_type": "markdown",
      "metadata": {
        "id": "view-in-github",
        "colab_type": "text"
      },
      "source": [
        "<a href=\"https://colab.research.google.com/github/ViniciusGGR/Data-Science-Introduction/blob/main/Introdu%C3%A7%C3%A3o_Python_Google_Colab.ipynb\" target=\"_parent\"><img src=\"https://colab.research.google.com/assets/colab-badge.svg\" alt=\"Open In Colab\"/></a>"
      ]
    },
    {
      "cell_type": "markdown",
      "source": [
        "O **Google Colab** é baseado no [Jupyter Notebook](https://jupyter.org/) que pode ser instalado em uma máquina local."
      ],
      "metadata": {
        "id": "je2rVLYdxQNa"
      }
    },
    {
      "cell_type": "code",
      "source": [
        "# Declarando uma variável\n",
        "\n",
        "name = \"Vinícius\"\n",
        "print(name) # Imprimindo/Retornando o valor da variável 'name' com a função 'print()'."
      ],
      "metadata": {
        "colab": {
          "base_uri": "https://localhost:8080/"
        },
        "id": "v4C_9tqUQy8D",
        "outputId": "05fd1e91-a21e-4870-84e3-ebafc964f10f"
      },
      "execution_count": null,
      "outputs": [
        {
          "output_type": "stream",
          "name": "stdout",
          "text": [
            "Vinícius\n"
          ]
        }
      ]
    },
    {
      "cell_type": "code",
      "source": [
        "name = \"William\"\n",
        "name # Imprimindo/Retornando o resultado sem utilizar a função 'print()'."
      ],
      "metadata": {
        "colab": {
          "base_uri": "https://localhost:8080/",
          "height": 35
        },
        "id": "G1hktEHgx-EB",
        "outputId": "f855a9dc-44a2-426f-a175-57367cd7275b"
      },
      "execution_count": null,
      "outputs": [
        {
          "output_type": "execute_result",
          "data": {
            "text/plain": [
              "'William'"
            ],
            "application/vnd.google.colaboratory.intrinsic+json": {
              "type": "string"
            }
          },
          "metadata": {},
          "execution_count": 2
        }
      ]
    },
    {
      "cell_type": "code",
      "source": [
        "age = 22\n",
        "age # Imprimindo/Retornando o resultado sem utilizar a função 'print()'.\n",
        "\n",
        "age + 3 # Adicionando/Somando 3 ao valor da variável 'age'."
      ],
      "metadata": {
        "colab": {
          "base_uri": "https://localhost:8080/"
        },
        "id": "fsDMA2IFyxp7",
        "outputId": "04ee0e79-fcac-46d2-f439-0348b48cf1bb"
      },
      "execution_count": 18,
      "outputs": [
        {
          "output_type": "execute_result",
          "data": {
            "text/plain": [
              "25"
            ]
          },
          "metadata": {},
          "execution_count": 18
        }
      ]
    },
    {
      "cell_type": "code",
      "source": [
        "age # O valor da variável 'age' continua sendo '22', mesmo ao adicionar '3' ao valor da idade."
      ],
      "metadata": {
        "colab": {
          "base_uri": "https://localhost:8080/"
        },
        "id": "xPRKWYpYzOOQ",
        "outputId": "38807514-2c5f-4583-b215-80d51133a601"
      },
      "execution_count": 19,
      "outputs": [
        {
          "output_type": "execute_result",
          "data": {
            "text/plain": [
              "22"
            ]
          },
          "metadata": {},
          "execution_count": 19
        }
      ]
    },
    {
      "cell_type": "code",
      "source": [
        "# Modificando o valor da variável 'age'\n",
        "age = age + 3\n",
        "age"
      ],
      "metadata": {
        "colab": {
          "base_uri": "https://localhost:8080/"
        },
        "id": "DQrXHg98zZFs",
        "outputId": "9af6a2b4-8ab7-4bea-848c-4fb5f7a3efa8"
      },
      "execution_count": 20,
      "outputs": [
        {
          "output_type": "execute_result",
          "data": {
            "text/plain": [
              "25"
            ]
          },
          "metadata": {},
          "execution_count": 20
        }
      ]
    },
    {
      "cell_type": "code",
      "source": [
        "# Criando uma função\n",
        "\n",
        "def plus_year(age):\n",
        "    return age + 1\n",
        "\n",
        "plus_year(25)"
      ],
      "metadata": {
        "colab": {
          "base_uri": "https://localhost:8080/"
        },
        "id": "l9kt0xjez_aY",
        "outputId": "17515890-a927-417c-ddfb-db826535f30d"
      },
      "execution_count": 23,
      "outputs": [
        {
          "output_type": "execute_result",
          "data": {
            "text/plain": [
              "26"
            ]
          },
          "metadata": {},
          "execution_count": 23
        }
      ]
    },
    {
      "cell_type": "code",
      "source": [
        "# Criando uma Lista/Array\n",
        "\n",
        "films = [\"Harry Potter e a Pedra Filosofal\", \"Harry Potter e a Câmara Secreta\", \"Harry Potter e o Prisioneiro de Azkaban\", \"Harry Potter e o Cálice de Fogo\", \"Harry Potter e a Ordem da Fênix\", \"Harry Potter e o Enigma do Príncipe\", \"Harry Potter e as Relíquias da Morte\"]\n",
        "films"
      ],
      "metadata": {
        "colab": {
          "base_uri": "https://localhost:8080/"
        },
        "id": "a2cGUCoK06cp",
        "outputId": "05cdea4b-7c8d-4b5b-c2d9-a00e01285822"
      },
      "execution_count": 24,
      "outputs": [
        {
          "output_type": "execute_result",
          "data": {
            "text/plain": [
              "['Harry Potter e a Pedra Filosofal',\n",
              " 'Harry Potter e a Câmara Secreta',\n",
              " 'Harry Potter e o Prisioneiro de Azkaban',\n",
              " 'Harry Potter e o Cálice de Fogo',\n",
              " 'Harry Potter e a Ordem da Fênix',\n",
              " 'Harry Potter e o Enigma do Príncipe',\n",
              " 'Harry Potter e as Relíquias da Morte']"
            ]
          },
          "metadata": {},
          "execution_count": 24
        }
      ]
    },
    {
      "cell_type": "code",
      "source": [
        "list()"
      ],
      "metadata": {
        "colab": {
          "base_uri": "https://localhost:8080/"
        },
        "id": "d-kUEfYT1gSt",
        "outputId": "42647a61-2f33-49ca-a5b1-b51d64763a3b"
      },
      "execution_count": 25,
      "outputs": [
        {
          "output_type": "execute_result",
          "data": {
            "text/plain": [
              "[]"
            ]
          },
          "metadata": {},
          "execution_count": 25
        }
      ]
    },
    {
      "cell_type": "code",
      "source": [
        "def print_films(films_list):\n",
        "    print(\"Lista de filmes disponíveis:\")\n",
        "    for film in films_list:\n",
        "      print(film)\n",
        "\n",
        "print_films(films)"
      ],
      "metadata": {
        "colab": {
          "base_uri": "https://localhost:8080/"
        },
        "id": "OANNA75w3t1d",
        "outputId": "038e4bb8-8349-4d60-cd5f-fd93e3aa79ce"
      },
      "execution_count": 35,
      "outputs": [
        {
          "output_type": "stream",
          "name": "stdout",
          "text": [
            "Lista de filmes disponíveis:\n",
            "Harry Potter e a Pedra Filosofal\n",
            "Harry Potter e a Câmara Secreta\n",
            "Harry Potter e o Prisioneiro de Azkaban\n",
            "Harry Potter e o Cálice de Fogo\n",
            "Harry Potter e a Ordem da Fênix\n",
            "Harry Potter e o Enigma do Príncipe\n",
            "Harry Potter e as Relíquias da Morte\n"
          ]
        }
      ]
    },
    {
      "cell_type": "code",
      "source": [
        "# Criando um Dictionary\n",
        "\n",
        "personal = {\"name\" : \"Vinícius Gabriel\", \"age\" : 22} # Chave/Valor\n",
        "personal"
      ],
      "metadata": {
        "colab": {
          "base_uri": "https://localhost:8080/"
        },
        "id": "NBskato06Dwk",
        "outputId": "dc21a067-a26a-48c8-f447-3dd81d56aedd"
      },
      "execution_count": 36,
      "outputs": [
        {
          "output_type": "execute_result",
          "data": {
            "text/plain": [
              "{'name': 'Vinícius Gabriel', 'age': 22}"
            ]
          },
          "metadata": {},
          "execution_count": 36
        }
      ]
    },
    {
      "cell_type": "code",
      "source": [
        "# Pegando o 'valor' de um Dictionary através da sua 'chave'\n",
        "\n",
        "personal[\"name\"]"
      ],
      "metadata": {
        "colab": {
          "base_uri": "https://localhost:8080/",
          "height": 35
        },
        "id": "ptKj8TFq6WM6",
        "outputId": "fa9f6085-febf-46a9-a0b4-139fa1dbf580"
      },
      "execution_count": 39,
      "outputs": [
        {
          "output_type": "execute_result",
          "data": {
            "text/plain": [
              "'Vinícius Gabriel'"
            ],
            "application/vnd.google.colaboratory.intrinsic+json": {
              "type": "string"
            }
          },
          "metadata": {},
          "execution_count": 39
        }
      ]
    },
    {
      "cell_type": "code",
      "source": [
        "personal[\"age\"]"
      ],
      "metadata": {
        "colab": {
          "base_uri": "https://localhost:8080/"
        },
        "id": "K_Apga0E6lww",
        "outputId": "c6a7f0f0-9c5e-45a3-8db9-d606c1e2b581"
      },
      "execution_count": 40,
      "outputs": [
        {
          "output_type": "execute_result",
          "data": {
            "text/plain": [
              "22"
            ]
          },
          "metadata": {},
          "execution_count": 40
        }
      ]
    }
  ]
}