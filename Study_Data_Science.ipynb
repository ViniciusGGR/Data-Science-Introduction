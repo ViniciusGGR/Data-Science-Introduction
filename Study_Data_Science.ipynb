{
  "nbformat": 4,
  "nbformat_minor": 0,
  "metadata": {
    "colab": {
      "provenance": [],
      "authorship_tag": "ABX9TyNYCJW7AAs+cRk6s1cxG1yV",
      "include_colab_link": true
    },
    "kernelspec": {
      "name": "python3",
      "display_name": "Python 3"
    },
    "language_info": {
      "name": "python"
    }
  },
  "cells": [
    {
      "cell_type": "markdown",
      "metadata": {
        "id": "view-in-github",
        "colab_type": "text"
      },
      "source": [
        "<a href=\"https://colab.research.google.com/github/ViniciusGGR/Data-Science-Introduction/blob/main/Study_Data_Science.ipynb\" target=\"_parent\"><img src=\"https://colab.research.google.com/assets/colab-badge.svg\" alt=\"Open In Colab\"/></a>"
      ]
    },
    {
      "cell_type": "markdown",
      "source": [
        "## Plano de Estudos - Data Science\n",
        "\n",
        "* Coleta e Aquisição de Dados.\n",
        "* Limpeza de Dados.\n",
        "* Análise Exploratória de Dados.\n",
        "* Transformação e Modelagem dos Dados.\n",
        "* Criação de Modelos de Aprendizado de Máquina.\n",
        "* Avaliação de Modelos de Aprendizado de Máquina.\n",
        "* Validação de Modelos de Aprendizado de Máquina.\n",
        "* Colocar os Modelos de Aprendizado de Máquina em Produção.\n",
        "\n",
        "---\n",
        "\n",
        "* Programação:\n",
        "  * Python - Lógica de Programação.\n",
        "  * R - Lógica de Programação (Opcional).\n",
        "* Análise de Dados:\n",
        "  * Análise de Dados Estruturados - (*Comece por aqui*).\n",
        "    * Selecionar Linhas no Conjunto de Dados.\n",
        "    * Agregação de Conjuntos de Dados diferentes.\n",
        "    * Extrair as principais Medidas Estatísticas dos Dados.\n",
        "      * Tipos de Variáveis.\n",
        "      * Medidas de Tendência Central.\n",
        "      * Medidas de Dispersão.\n",
        "      * Medidas de Distribuição.\n",
        "  * Análise de Dados Não Estruturados.\n",
        "* Visualização de Dados.\n",
        "* Aprendizado de Máquina:\n",
        "  * Aprendizado Supervisionado.\n",
        "  * Aprendizado Não Supervisionado.\n",
        "  * Aprendizado por Reforço.\n",
        "  * Principais Tarefas do Aprendizado de Máquina:\n",
        "    * Problemas de Classificação.\n",
        "    * Problemas de Regressão.\n",
        "    * Problemas de Agrupamento.\n",
        "  * Principais Modelos utilizados para cada uma dessas Tarefas.\n",
        "  * O que é Overfitting.\n",
        "  * O que é Underfitting.\n",
        "  * Para que serve um determinado Modelo de Aprendizado de Máquina.\n",
        "  * Como funciona um determinado Modelo de Aprendizado de Máquina.\n",
        "  * Quais são os principais parâmetros utilizados ao implementar um determinado Modelo de Aprendizado de Máquina.\n",
        "  * Como avaliar se um determinado Modelo de Aprendizado de Máquina está Performando, se tem uma acurácia/precisão.\n",
        "  * Como Validar um eterminado Modelo de Aprendizado de Máquina.\n",
        "* Deep Learning.\n",
        "  * Imagem e Voz."
      ],
      "metadata": {
        "id": "cjWv-1re4D-6"
      }
    },
    {
      "cell_type": "markdown",
      "source": [],
      "metadata": {
        "id": "LLOKn9o58iaZ"
      }
    }
  ]
}